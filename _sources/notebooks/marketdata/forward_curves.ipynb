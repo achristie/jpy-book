{
  "cells": [
    {
      "cell_type": "markdown",
      "metadata": {},
      "source": [
        "# Forward Curves\n",
        "This examples shows \n",
        "1. Generating an Access Token and using it in API Calls.\n",
        "2. Calling the `market-data/reference-date/v3/forward-curve/search` endpoint to find a particular curve.\n",
        "3. Calling the `market-data/forward-curve/v3/curve-code` endpoint to get assessments for a specific `curve_code`.\n",
        "4. Converting response into a DataFrame.\n",
        "5. Charting the Forward Curve."
      ]
    },
    {
      "cell_type": "markdown",
      "metadata": {},
      "source": [
        "## Fetching Data"
      ]
    },
    {
      "cell_type": "markdown",
      "metadata": {},
      "source": [
        "### Install Dependencies\n",
        "```python\n",
        "pip install requests pandas matplotlib\n",
        "```"
      ]
    },
    {
      "cell_type": "markdown",
      "metadata": {},
      "source": [
        "Import dependencies"
      ]
    },
    {
      "cell_type": "code",
      "execution_count": 1,
      "metadata": {},
      "outputs": [],
      "source": [
        "import pandas as pd\n",
        "import requests\n",
        "import matplotlib.pyplot as plt"
      ]
    },
    {
      "cell_type": "markdown",
      "metadata": {},
      "source": [
        "Set `username`, `password`, and `apikey` here for simplicity"
      ]
    },
    {
      "cell_type": "code",
      "execution_count": 2,
      "metadata": {},
      "outputs": [],
      "source": [
        "username = \"USERNAME\"\n",
        "password = \"PASSWORD\"\n",
        "apikey = \"APIKEY\""
      ]
    },
    {
      "cell_type": "markdown",
      "metadata": {},
      "source": [
        "```{seealso}\n",
        "This `get_token` function is taken from [Generating a Token](../token.ipynb)\n",
        "```"
      ]
    },
    {
      "cell_type": "code",
      "execution_count": 3,
      "metadata": {},
      "outputs": [],
      "source": [
        "def get_token(username, password, apikey):\n",
        "  \"\"\"Get an Access Token to make API calls with.\"\"\"\n",
        "  body = {\n",
        "    \"username\": username,\n",
        "    \"password\": password\n",
        "  }\n",
        "  headers = {\n",
        "    \"appkey\": apikey\n",
        "  }\n",
        "  try:\n",
        "    r = requests.post(\"https://api.platts.com/auth/api\", data=body, headers=headers)\n",
        "    r.raise_for_status()\n",
        "    return r.json()[\"access_token\"]\n",
        "  except Exception as err:\n",
        "    if r.status_code >= 500:\n",
        "      print(err)\n",
        "    else:\n",
        "      print(r.status_code, r.json())"
      ]
    },
    {
      "cell_type": "markdown",
      "metadata": {},
      "source": [
        "### Search Curves\n",
        "1. Create a function - `search_curves` - to call the Forward Curves Search endpoint.\n",
        "2. Requires `username`, `password`, `apikey` and a search term - `q`.\n",
        "3. Returns a `dict` (json) of the data."
      ]
    },
    {
      "cell_type": "code",
      "execution_count": 4,
      "metadata": {},
      "outputs": [],
      "source": [
        "def search_curves(username, password, apikey, q):\n",
        "  \"\"\"Search for curves based on `q`\"\"\"\n",
        "  token = get_token(username, password, apikey)\n",
        "  headers= {\n",
        "    \"appkey\": apikey,\n",
        "    \"Authorization\": f\"Bearer {token}\"\n",
        "  }\n",
        "\n",
        "  params = {\n",
        "    \"q\": q\n",
        "  }\n",
        "\n",
        "  try:\n",
        "    r = requests.get(\"https://api.platts.com/market-data/reference-data/v3/forward-curve/search\", headers=headers, params=params)\n",
        "    r.raise_for_status()\n",
        "    return r.json()\n",
        "  except Exception as err:\n",
        "    if r.status_code >= 500:\n",
        "      print(err)\n",
        "    else:\n",
        "      print(r.status_code, r.json())\n",
        "    raise"
      ]
    },
    {
      "cell_type": "markdown",
      "metadata": {},
      "source": [
        "Invoke `search_curves` and print results"
      ]
    },
    {
      "cell_type": "code",
      "execution_count": 5,
      "metadata": {},
      "outputs": [
        {
          "data": {
            "text/plain": [
              "[{'commodity': 'Copper',\n",
              "  'contract_type': 'Future',\n",
              "  'currency': 'CNY',\n",
              "  'curve_code': 'CN2UN',\n",
              "  'curve_name': 'SHFE Copper Floor Abs Futures',\n",
              "  'curve_type': 'Absolute Forward Curve',\n",
              "  'delivery_region': 'Shanghai',\n",
              "  'holiday_schedule': 'CALSF00',\n",
              "  'mdc': ['MX'],\n",
              "  'mdc_description': ['Metals: Misc Non-Platts Data - Non-Ferrous'],\n",
              "  'uom': 'TON'},\n",
              " {'commodity': 'Copper',\n",
              "  'contract_type': 'Future',\n",
              "  'currency': 'CNY',\n",
              "  'curve_code': 'CN2UM',\n",
              "  'curve_name': 'SHFE Copper Close Abs Futures',\n",
              "  'curve_type': 'Absolute Forward Curve',\n",
              "  'delivery_region': 'Shanghai',\n",
              "  'holiday_schedule': 'CALSF00',\n",
              "  'mdc': ['MX'],\n",
              "  'mdc_description': ['Metals: Misc Non-Platts Data - Non-Ferrous'],\n",
              "  'uom': 'TON'}]"
            ]
          },
          "execution_count": 5,
          "metadata": {},
          "output_type": "execute_result"
        }
      ],
      "source": [
        "data = search_curves(username, password, apikey, \"Copper\")\n",
        "data['results'][:2]"
      ]
    },
    {
      "cell_type": "markdown",
      "metadata": {},
      "source": [
        "### Get Curve by Curve Code\n",
        "1. Create a function - `get_curve_by_curvecode` - to call the Forward Curves Curve Code endpoint.\n",
        "2. Requires `username`, `password`, `apikey` and a `curve_code`.\n",
        "3. Returns a `dict` (json) of the data."
      ]
    },
    {
      "cell_type": "code",
      "execution_count": 6,
      "metadata": {},
      "outputs": [],
      "source": [
        "def get_curve_by_curvecode(username, password, apikey, curve_code):\n",
        "  \"\"\"fetch assessments for a specific curve\"\"\"\n",
        "  token = get_token(username, password, apikey)\n",
        "  headers= {\n",
        "    \"appkey\": apikey,\n",
        "    \"Authorization\": f\"Bearer {token}\"\n",
        "  }\n",
        "\n",
        "  params = {\n",
        "    \"filter\": f'curve_code: \"{curve_code}\"'\n",
        "  }\n",
        "\n",
        "  try:\n",
        "    r = requests.get(\"https://api.platts.com/market-data/forward-curve/v3/curve-code\", headers=headers, params=params)\n",
        "    r.raise_for_status()\n",
        "    return r.json()\n",
        "  except Exception as err:\n",
        "    if r.status_code >= 500:\n",
        "      print(err)\n",
        "    else:\n",
        "      print(r.status_code, r.json())\n",
        "    raise"
      ]
    },
    {
      "cell_type": "markdown",
      "metadata": {},
      "source": [
        "Invoke `get_curve_by_curvecode` and print a subset of results."
      ]
    },
    {
      "cell_type": "code",
      "execution_count": 7,
      "metadata": {},
      "outputs": [
        {
          "data": {
            "text/plain": [
              "[{'symbol': 'XHCUN22',\n",
              "  'contract_label': 'JUL 2022',\n",
              "  'derivative_maturity_frequency': 'Month',\n",
              "  'derivative_position': 1,\n",
              "  'notional_contract': 'July 2022',\n",
              "  'data': [{'bate': 'w', 'assessDate': '2022-06-20T00:00:00', 'value': 116285},\n",
              "   {'bate': 'o', 'assessDate': '2022-06-20T00:00:00', 'value': 69450},\n",
              "   {'bate': 'h', 'assessDate': '2022-06-20T00:00:00', 'value': 69450},\n",
              "   {'bate': 'c', 'assessDate': '2022-06-20T00:00:00', 'value': 68670},\n",
              "   {'bate': 'e', 'assessDate': '2022-06-20T00:00:00', 'value': 125733},\n",
              "   {'bate': 'l', 'assessDate': '2022-06-20T00:00:00', 'value': 68000}]},\n",
              " {'symbol': 'XHCUQ22',\n",
              "  'contract_label': 'AUG 2022',\n",
              "  'derivative_maturity_frequency': 'Month',\n",
              "  'derivative_position': 2,\n",
              "  'notional_contract': 'August 2022',\n",
              "  'data': [{'bate': 'h', 'assessDate': '2022-06-20T00:00:00', 'value': 69230},\n",
              "   {'bate': 'o', 'assessDate': '2022-06-20T00:00:00', 'value': 69230},\n",
              "   {'bate': 'l', 'assessDate': '2022-06-20T00:00:00', 'value': 67700},\n",
              "   {'bate': 'e', 'assessDate': '2022-06-20T00:00:00', 'value': 107809},\n",
              "   {'bate': 'c', 'assessDate': '2022-06-20T00:00:00', 'value': 68370},\n",
              "   {'bate': 'w', 'assessDate': '2022-06-20T00:00:00', 'value': 77336}]}]"
            ]
          },
          "execution_count": 7,
          "metadata": {},
          "output_type": "execute_result"
        }
      ],
      "source": [
        "curve_data = get_curve_by_curvecode(username, password, apikey, \"CN2UN\")\n",
        "curve_data['results']['symbol_data'][:2]"
      ]
    },
    {
      "cell_type": "markdown",
      "metadata": {},
      "source": [
        "## Using Pandas\n",
        "[ Pandas ]( https://pandas.pydata.org/ ) is one of the best tools for data anlysis in Python and converting our data into a Data Frame is necessary in order to use it so let's do that now."
      ]
    },
    {
      "cell_type": "markdown",
      "metadata": {},
      "source": [
        "### Creating a DataFrame\n",
        "Flattening our JSON response into a DataFrame."
      ]
    },
    {
      "cell_type": "code",
      "execution_count": 17,
      "metadata": {},
      "outputs": [
        {
          "data": {
            "text/html": [
              "<div>\n",
              "<style scoped>\n",
              "    .dataframe tbody tr th:only-of-type {\n",
              "        vertical-align: middle;\n",
              "    }\n",
              "\n",
              "    .dataframe tbody tr th {\n",
              "        vertical-align: top;\n",
              "    }\n",
              "\n",
              "    .dataframe thead th {\n",
              "        text-align: right;\n",
              "    }\n",
              "</style>\n",
              "<table style=\"font-size:10px\"border=\"1\" class=\"dataframe\">\n",
              "  <thead>\n",
              "    <tr style=\"text-align: right;\">\n",
              "      <th></th>\n",
              "      <th>bate</th>\n",
              "      <th>assessDate</th>\n",
              "      <th>value</th>\n",
              "      <th>curve_name</th>\n",
              "      <th>curve_code</th>\n",
              "      <th>symbol</th>\n",
              "      <th>derivative_position</th>\n",
              "      <th>contract_label</th>\n",
              "      <th>derivative_maturity_frequency</th>\n",
              "    </tr>\n",
              "  </thead>\n",
              "  <tbody>\n",
              "    <tr>\n",
              "      <th>0</th>\n",
              "      <td>w</td>\n",
              "      <td>2022-06-20T00:00:00</td>\n",
              "      <td>116285</td>\n",
              "      <td>SHFE Copper Floor Abs Futures</td>\n",
              "      <td>CN2UN</td>\n",
              "      <td>XHCUN22</td>\n",
              "      <td>1</td>\n",
              "      <td>JUL 2022</td>\n",
              "      <td>Month</td>\n",
              "    </tr>\n",
              "    <tr>\n",
              "      <th>1</th>\n",
              "      <td>o</td>\n",
              "      <td>2022-06-20T00:00:00</td>\n",
              "      <td>69450</td>\n",
              "      <td>SHFE Copper Floor Abs Futures</td>\n",
              "      <td>CN2UN</td>\n",
              "      <td>XHCUN22</td>\n",
              "      <td>1</td>\n",
              "      <td>JUL 2022</td>\n",
              "      <td>Month</td>\n",
              "    </tr>\n",
              "    <tr>\n",
              "      <th>2</th>\n",
              "      <td>h</td>\n",
              "      <td>2022-06-20T00:00:00</td>\n",
              "      <td>69450</td>\n",
              "      <td>SHFE Copper Floor Abs Futures</td>\n",
              "      <td>CN2UN</td>\n",
              "      <td>XHCUN22</td>\n",
              "      <td>1</td>\n",
              "      <td>JUL 2022</td>\n",
              "      <td>Month</td>\n",
              "    </tr>\n",
              "    <tr>\n",
              "      <th>3</th>\n",
              "      <td>c</td>\n",
              "      <td>2022-06-20T00:00:00</td>\n",
              "      <td>68670</td>\n",
              "      <td>SHFE Copper Floor Abs Futures</td>\n",
              "      <td>CN2UN</td>\n",
              "      <td>XHCUN22</td>\n",
              "      <td>1</td>\n",
              "      <td>JUL 2022</td>\n",
              "      <td>Month</td>\n",
              "    </tr>\n",
              "    <tr>\n",
              "      <th>4</th>\n",
              "      <td>e</td>\n",
              "      <td>2022-06-20T00:00:00</td>\n",
              "      <td>125733</td>\n",
              "      <td>SHFE Copper Floor Abs Futures</td>\n",
              "      <td>CN2UN</td>\n",
              "      <td>XHCUN22</td>\n",
              "      <td>1</td>\n",
              "      <td>JUL 2022</td>\n",
              "      <td>Month</td>\n",
              "    </tr>\n",
              "  </tbody>\n",
              "</table>\n",
              "</div>"
            ],
            "text/plain": [
              "  bate           assessDate   value                     curve_name curve_code  \\\n",
              "0    w  2022-06-20T00:00:00  116285  SHFE Copper Floor Abs Futures      CN2UN   \n",
              "1    o  2022-06-20T00:00:00   69450  SHFE Copper Floor Abs Futures      CN2UN   \n",
              "2    h  2022-06-20T00:00:00   69450  SHFE Copper Floor Abs Futures      CN2UN   \n",
              "3    c  2022-06-20T00:00:00   68670  SHFE Copper Floor Abs Futures      CN2UN   \n",
              "4    e  2022-06-20T00:00:00  125733  SHFE Copper Floor Abs Futures      CN2UN   \n",
              "\n",
              "    symbol derivative_position contract_label derivative_maturity_frequency  \n",
              "0  XHCUN22                   1       JUL 2022                         Month  \n",
              "1  XHCUN22                   1       JUL 2022                         Month  \n",
              "2  XHCUN22                   1       JUL 2022                         Month  \n",
              "3  XHCUN22                   1       JUL 2022                         Month  \n",
              "4  XHCUN22                   1       JUL 2022                         Month  "
            ]
          },
          "execution_count": 17,
          "metadata": {},
          "output_type": "execute_result"
        }
      ],
      "source": [
        "df = pd.json_normalize(curve_data['results'], record_path=[\"symbol_data\", \"data\"], \n",
        "  meta=['curve_name', 'curve_code', ['symbol_data', 'symbol'], ['symbol_data', 'derivative_position'], \n",
        "    ['symbol_data', 'contract_label'], ['symbol_data', 'derivative_maturity_frequency']])\n",
        "df.columns = df.columns.str.replace(\"symbol_data.\", \"\", regex=True)\n",
        "df.style.set_table_attributes('style=\"font-size: 10px\"')\n",
        "df.head(5)"
      ]
    },
    {
      "cell_type": "markdown",
      "metadata": {},
      "source": [
        "### Data Adjustments\n",
        "1. Filter to only `c` (Close) and Monthly curves.\n",
        "2. Set the index to the `contract_label` field, but converted to a Pandas `PeriodIndex` so that we can do Date/Time operations on it."
      ]
    },
    {
      "cell_type": "code",
      "execution_count": 15,
      "metadata": {},
      "outputs": [],
      "source": [
        "filt = df['derivative_maturity_frequency'] == \"Month\"\n",
        "filt2 = df['bate'] == \"c\"\n",
        "chart_df = df[filt & filt2]\n",
        "chart_df = chart_df.set_index(pd.PeriodIndex(chart_df['contract_label'], freq=\"M\"))"
      ]
    },
    {
      "cell_type": "markdown",
      "metadata": {},
      "source": [
        "### Plotting the Curve\n",
        "Use [Matplotlib](https://matplotlib.org/) to visualize the curve.\n"
      ]
    },
    {
      "cell_type": "code",
      "execution_count": 10,
      "metadata": {},
      "outputs": [
        {
          "data": {
            "image/png": "[encoded data removed]",
            "text/plain": [
              "<Figure size 864x432 with 1 Axes>"
            ]
          },
          "metadata": {
            "needs_background": "light"
          },
          "output_type": "display_data"
        }
      ],
      "source": [
        "fig, ax = plt.subplots()\n",
        "chart_df['value'].plot(ax=ax, figsize=(12,6), x_compat=True, label=chart_df['curve_name'][0])\n",
        "ax.set_xlabel(\"Contract Label\")\n",
        "ax.legend();"
      ]
    }
  ],
  "metadata": {
    "interpreter": {
      "hash": "b0fa6594d8f4cbf19f97940f81e996739fb7646882a419484c72d19e05852a7e"
    },
    "kernelspec": {
      "display_name": "Python 3.9.13 64-bit",
      "language": "python",
      "name": "python3"
    },
    "language_info": {
      "codemirror_mode": {
        "name": "ipython",
        "version": 3
      },
      "file_extension": ".py",
      "mimetype": "text/x-python",
      "name": "python",
      "nbconvert_exporter": "python",
      "pygments_lexer": "ipython3",
      "version": "3.9.13"
    },
    "orig_nbformat": 4
  },
  "nbformat": 4,
  "nbformat_minor": 2
}
