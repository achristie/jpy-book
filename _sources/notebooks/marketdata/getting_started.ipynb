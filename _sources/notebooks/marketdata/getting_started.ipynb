{
 "cells": [
  {
   "cell_type": "markdown",
   "metadata": {},
   "source": [
    "# Getting Started\n",
    "\n",
    "This is a simple example showing:\n",
    "1. Calling the [`market-data/v3/value/current/symbol` endpoint](https://developer.platts.com/servicecatalog#/MarketData/v3/Market%20Data) with an access token and api key\n",
    "2. Putting the response into a DataFrame"
   ]
  },
  {
   "cell_type": "markdown",
   "metadata": {},
   "source": [
    "## Fetching Data"
   ]
  },
  {
   "cell_type": "markdown",
   "metadata": {},
   "source": [
    "### Install Dependencies\n",
    "\n",
    "```{tip}\n",
    "`pip install requests pandas pprint`\n",
    "```"
   ]
  },
  {
   "cell_type": "markdown",
   "metadata": {},
   "source": [
    "Import dependencies"
   ]
  },
  {
   "cell_type": "code",
   "execution_count": 1,
   "metadata": {},
   "outputs": [],
   "source": [
    "import requests\n",
    "import pandas as pd\n",
    "from pprint import pprint\n"
   ]
  },
  {
   "cell_type": "markdown",
   "metadata": {},
   "source": [
    "```{seealso}\n",
    "This `get_token` function is taken from [Generating a Token](../token.ipynb)\n",
    "```"
   ]
  },
  {
   "cell_type": "code",
   "execution_count": 2,
   "metadata": {},
   "outputs": [],
   "source": [
    "def get_token(username, password, apikey):\n",
    "  body = {\n",
    "    \"username\": username,\n",
    "    \"password\": password\n",
    "  }\n",
    "  headers = {\n",
    "    \"appkey\": apikey\n",
    "  }\n",
    "  try:\n",
    "    r = requests.post(\"https://api.platts.com/auth/api\", data=body, headers=headers)\n",
    "    r.raise_for_status()\n",
    "    return r.json()[\"access_token\"]\n",
    "  except Exception as err:\n",
    "    if r.status_code >= 500:\n",
    "      print(err)\n",
    "    else:\n",
    "      print(r.status_code, r.json())"
   ]
  },
  {
   "cell_type": "markdown",
   "metadata": {},
   "source": [
    "### Get Current Assessments\n",
    "\n",
    "1) Create a function - `get_current_assessments` - to call the Platts Current Endpoint\n",
    "2) Requires `username`, `password`, `apikey` and a list of `symbols`\n",
    "3) Returns a `dict` (json) of the data from the Platts API"
   ]
  },
  {
   "cell_type": "code",
   "execution_count": 3,
   "metadata": {},
   "outputs": [],
   "source": [
    "def get_current_assessments(username, password, apikey, symbols):\n",
    "  token = get_token(username, password, apikey)\n",
    "\n",
    "  # quotes are required around each symbol\n",
    "  symbols = [ '\"' + x + '\"' for x in symbols]\n",
    "\n",
    "  params = {\n",
    "    \"filter\": f\"symbol in ({','.join(symbols)})\"\n",
    "  }\n",
    "  headers = {\n",
    "    \"Authorization\": f\"Bearer {token}\",\n",
    "    \"appkey\": apikey\n",
    "  }\n",
    "\n",
    "  try:\n",
    "    r = requests.get(\"https://api.platts.com/market-data/v3/value/current/symbol\", \n",
    "      params=params, headers=headers)\n",
    "    r.raise_for_status()\n",
    "    return r.json()\n",
    "  except Exception as err:\n",
    "    if r.status_code >= 500:\n",
    "      print (err)\n",
    "    else:\n",
    "      print(r.status_code, r.json())\n",
    "    raise\n",
    "\n"
   ]
  },
  {
   "cell_type": "markdown",
   "metadata": {},
   "source": [
    "Invoke `get_current_assessments` and print results"
   ]
  },
  {
   "cell_type": "code",
   "execution_count": 4,
   "metadata": {},
   "outputs": [
    {
     "name": "stdout",
     "output_type": "stream",
     "text": [
      "[{'data': [{'assessDate': '2022-06-10T00:00:00',\n",
      "            'bate': 'l',\n",
      "            'isCorrected': 'N',\n",
      "            'modDate': '2022-06-10T18:00:47',\n",
      "            'value': 127.54},\n",
      "           {'assessDate': '2022-06-10T00:00:00',\n",
      "            'bate': 'h',\n",
      "            'isCorrected': 'N',\n",
      "            'modDate': '2022-06-10T18:00:47',\n",
      "            'value': 127.56},\n",
      "           {'assessDate': '2022-06-10T00:00:00',\n",
      "            'bate': 'c',\n",
      "            'isCorrected': 'N',\n",
      "            'modDate': '2022-06-10T18:00:47',\n",
      "            'value': 127.55}],\n",
      "  'symbol': 'PCAAS00'},\n",
      " {'data': [{'assessDate': '2022-06-10T00:00:00',\n",
      "            'bate': 'c',\n",
      "            'isCorrected': 'N',\n",
      "            'modDate': '2022-06-10T08:40:35',\n",
      "            'value': 118.95},\n",
      "           {'assessDate': '2022-06-10T00:00:00',\n",
      "            'bate': 'h',\n",
      "            'isCorrected': 'N',\n",
      "            'modDate': '2022-06-10T08:40:35',\n",
      "            'value': 118.96},\n",
      "           {'assessDate': '2022-06-10T00:00:00',\n",
      "            'bate': 'l',\n",
      "            'isCorrected': 'N',\n",
      "            'modDate': '2022-06-10T08:40:35',\n",
      "            'value': 118.94}],\n",
      "  'symbol': 'PCAAT00'}]\n"
     ]
    }
   ],
   "source": [
    "symbols = [\"PCAAS00\", \"PCAAT00\"]\n",
    "data = get_current_assessments(\"USERNAME\", \"PASSWORD\", \"APIKey\", symbols)\n",
    "pprint(data[\"results\"])"
   ]
  },
  {
   "cell_type": "markdown",
   "metadata": {},
   "source": [
    "## Using Pandas\n",
    "\n",
    "[ Pandas ]( https://pandas.pydata.org/ ) is one of the best tools for data anlysis in Python and converting our data into a Data Frame is necessary in order to use it so let's do that now."
   ]
  },
  {
   "cell_type": "markdown",
   "metadata": {},
   "source": [
    "### Creating a DataFrame\n",
    "Flattening our JSON response into a DataFrame"
   ]
  },
  {
   "cell_type": "code",
   "execution_count": 5,
   "metadata": {},
   "outputs": [
    {
     "data": {
      "text/html": [
       "<div>\n",
       "<style scoped>\n",
       "    .dataframe tbody tr th:only-of-type {\n",
       "        vertical-align: middle;\n",
       "    }\n",
       "\n",
       "    .dataframe tbody tr th {\n",
       "        vertical-align: top;\n",
       "    }\n",
       "\n",
       "    .dataframe thead th {\n",
       "        text-align: right;\n",
       "    }\n",
       "</style>\n",
       "<table border=\"1\" class=\"dataframe\">\n",
       "  <thead>\n",
       "    <tr style=\"text-align: right;\">\n",
       "      <th></th>\n",
       "      <th>bate</th>\n",
       "      <th>assessDate</th>\n",
       "      <th>value</th>\n",
       "      <th>isCorrected</th>\n",
       "      <th>modDate</th>\n",
       "      <th>symbol</th>\n",
       "    </tr>\n",
       "  </thead>\n",
       "  <tbody>\n",
       "    <tr>\n",
       "      <th>0</th>\n",
       "      <td>l</td>\n",
       "      <td>2022-06-10</td>\n",
       "      <td>127.54</td>\n",
       "      <td>N</td>\n",
       "      <td>2022-06-10 18:00:47</td>\n",
       "      <td>PCAAS00</td>\n",
       "    </tr>\n",
       "    <tr>\n",
       "      <th>1</th>\n",
       "      <td>h</td>\n",
       "      <td>2022-06-10</td>\n",
       "      <td>127.56</td>\n",
       "      <td>N</td>\n",
       "      <td>2022-06-10 18:00:47</td>\n",
       "      <td>PCAAS00</td>\n",
       "    </tr>\n",
       "    <tr>\n",
       "      <th>2</th>\n",
       "      <td>c</td>\n",
       "      <td>2022-06-10</td>\n",
       "      <td>127.55</td>\n",
       "      <td>N</td>\n",
       "      <td>2022-06-10 18:00:47</td>\n",
       "      <td>PCAAS00</td>\n",
       "    </tr>\n",
       "    <tr>\n",
       "      <th>3</th>\n",
       "      <td>c</td>\n",
       "      <td>2022-06-10</td>\n",
       "      <td>118.95</td>\n",
       "      <td>N</td>\n",
       "      <td>2022-06-10 08:40:35</td>\n",
       "      <td>PCAAT00</td>\n",
       "    </tr>\n",
       "    <tr>\n",
       "      <th>4</th>\n",
       "      <td>h</td>\n",
       "      <td>2022-06-10</td>\n",
       "      <td>118.96</td>\n",
       "      <td>N</td>\n",
       "      <td>2022-06-10 08:40:35</td>\n",
       "      <td>PCAAT00</td>\n",
       "    </tr>\n",
       "    <tr>\n",
       "      <th>5</th>\n",
       "      <td>l</td>\n",
       "      <td>2022-06-10</td>\n",
       "      <td>118.94</td>\n",
       "      <td>N</td>\n",
       "      <td>2022-06-10 08:40:35</td>\n",
       "      <td>PCAAT00</td>\n",
       "    </tr>\n",
       "  </tbody>\n",
       "</table>\n",
       "</div>"
      ],
      "text/plain": [
       "  bate assessDate   value isCorrected             modDate   symbol\n",
       "0    l 2022-06-10  127.54           N 2022-06-10 18:00:47  PCAAS00\n",
       "1    h 2022-06-10  127.56           N 2022-06-10 18:00:47  PCAAS00\n",
       "2    c 2022-06-10  127.55           N 2022-06-10 18:00:47  PCAAS00\n",
       "3    c 2022-06-10  118.95           N 2022-06-10 08:40:35  PCAAT00\n",
       "4    h 2022-06-10  118.96           N 2022-06-10 08:40:35  PCAAT00\n",
       "5    l 2022-06-10  118.94           N 2022-06-10 08:40:35  PCAAT00"
      ]
     },
     "execution_count": 5,
     "metadata": {},
     "output_type": "execute_result"
    }
   ],
   "source": [
    "df = pd.json_normalize(data['results'], record_path=['data'], meta=\"symbol\")\n",
    "# Parse dates so that we can use datetime operations\n",
    "cols = [\"assessDate\", \"modDate\"]\n",
    "df[cols] = df[cols].apply(pd.to_datetime)\n",
    "df"
   ]
  },
  {
   "cell_type": "markdown",
   "metadata": {},
   "source": [
    "### Ensuring Datatypes are Correct\n",
    "`assessDate` and `modDate` should be dates not objects"
   ]
  },
  {
   "cell_type": "code",
   "execution_count": 6,
   "metadata": {},
   "outputs": [
    {
     "name": "stdout",
     "output_type": "stream",
     "text": [
      "<class 'pandas.core.frame.DataFrame'>\n",
      "RangeIndex: 6 entries, 0 to 5\n",
      "Data columns (total 6 columns):\n",
      " #   Column       Non-Null Count  Dtype         \n",
      "---  ------       --------------  -----         \n",
      " 0   bate         6 non-null      object        \n",
      " 1   assessDate   6 non-null      datetime64[ns]\n",
      " 2   value        6 non-null      float64       \n",
      " 3   isCorrected  6 non-null      object        \n",
      " 4   modDate      6 non-null      datetime64[ns]\n",
      " 5   symbol       6 non-null      object        \n",
      "dtypes: datetime64[ns](2), float64(1), object(3)\n",
      "memory usage: 416.0+ bytes\n"
     ]
    }
   ],
   "source": [
    "df.info()"
   ]
  },
  {
   "cell_type": "markdown",
   "metadata": {},
   "source": [
    "### Simple Pandas Example\n",
    "\n",
    "Filtering to only \"Close\" prices "
   ]
  },
  {
   "cell_type": "code",
   "execution_count": 7,
   "metadata": {},
   "outputs": [
    {
     "data": {
      "text/html": [
       "<div>\n",
       "<style scoped>\n",
       "    .dataframe tbody tr th:only-of-type {\n",
       "        vertical-align: middle;\n",
       "    }\n",
       "\n",
       "    .dataframe tbody tr th {\n",
       "        vertical-align: top;\n",
       "    }\n",
       "\n",
       "    .dataframe thead th {\n",
       "        text-align: right;\n",
       "    }\n",
       "</style>\n",
       "<table border=\"1\" class=\"dataframe\">\n",
       "  <thead>\n",
       "    <tr style=\"text-align: right;\">\n",
       "      <th></th>\n",
       "      <th>bate</th>\n",
       "      <th>assessDate</th>\n",
       "      <th>value</th>\n",
       "      <th>isCorrected</th>\n",
       "      <th>modDate</th>\n",
       "      <th>symbol</th>\n",
       "    </tr>\n",
       "  </thead>\n",
       "  <tbody>\n",
       "    <tr>\n",
       "      <th>2</th>\n",
       "      <td>c</td>\n",
       "      <td>2022-06-10</td>\n",
       "      <td>127.55</td>\n",
       "      <td>N</td>\n",
       "      <td>2022-06-10 18:00:47</td>\n",
       "      <td>PCAAS00</td>\n",
       "    </tr>\n",
       "    <tr>\n",
       "      <th>3</th>\n",
       "      <td>c</td>\n",
       "      <td>2022-06-10</td>\n",
       "      <td>118.95</td>\n",
       "      <td>N</td>\n",
       "      <td>2022-06-10 08:40:35</td>\n",
       "      <td>PCAAT00</td>\n",
       "    </tr>\n",
       "  </tbody>\n",
       "</table>\n",
       "</div>"
      ],
      "text/plain": [
       "  bate assessDate   value isCorrected             modDate   symbol\n",
       "2    c 2022-06-10  127.55           N 2022-06-10 18:00:47  PCAAS00\n",
       "3    c 2022-06-10  118.95           N 2022-06-10 08:40:35  PCAAT00"
      ]
     },
     "execution_count": 7,
     "metadata": {},
     "output_type": "execute_result"
    }
   ],
   "source": [
    "filt = df[\"bate\"] == \"c\"\n",
    "close_df = df[filt]\n",
    "close_df"
   ]
  }
 ],
 "metadata": {
  "interpreter": {
   "hash": "b0fa6594d8f4cbf19f97940f81e996739fb7646882a419484c72d19e05852a7e"
  },
  "kernelspec": {
   "display_name": "Python 3.9.13 64-bit",
   "language": "python",
   "name": "python3"
  },
  "language_info": {
   "codemirror_mode": {
    "name": "ipython",
    "version": 3
   },
   "file_extension": ".py",
   "mimetype": "text/x-python",
   "name": "python",
   "nbconvert_exporter": "python",
   "pygments_lexer": "ipython3",
   "version": "3.9.13"
  },
  "orig_nbformat": 4
 },
 "nbformat": 4,
 "nbformat_minor": 2
}
