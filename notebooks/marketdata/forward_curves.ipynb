{
 "cells": [
  {
   "cell_type": "markdown",
   "metadata": {},
   "source": [
    "# Forward Curves\n",
    "This examples shows \n",
    "1. Generating an Access Token and using it in API Calls.\n",
    "2. Calling the `market-data/reference-date/v3/forward-curve/search` endpoint to find a particular curve.\n",
    "3. Calling the `market-data/forward-curve/v3/curve-code` endpoint to get assessments for a specific curve code.\n",
    "4. Converting response into a DataFrame.\n",
    "5. Charting the Forward Curve."
   ]
  },
  {
   "cell_type": "markdown",
   "metadata": {},
   "source": [
    "## Fetching Data"
   ]
  },
  {
   "cell_type": "markdown",
   "metadata": {},
   "source": [
    "### Install Dependencies\n",
    "```python\n",
    "pip install requests pandas matplotlib\n",
    "```"
   ]
  },
  {
   "cell_type": "markdown",
   "metadata": {},
   "source": [
    "Import dependencies"
   ]
  },
  {
   "cell_type": "code",
   "execution_count": 194,
   "metadata": {},
   "outputs": [],
   "source": [
    "import pandas as pd\n",
    "import requests\n",
    "import matplotlib.pyplot as plt\n",
    "import matplotlib.dates as mdates"
   ]
  },
  {
   "cell_type": "markdown",
   "metadata": {},
   "source": [
    "Set `username`, `password`, and `apikey` here for simplicity"
   ]
  },
  {
   "cell_type": "code",
   "execution_count": 3,
   "metadata": {},
   "outputs": [],
   "source": [
    "username = \"\"\n",
    "password = \"\"\n",
    "apikey = \"\""
   ]
  },
  {
   "cell_type": "markdown",
   "metadata": {},
   "source": [
    "```{seealso}\n",
    "This `get_token` function is taken from [Generating a Token](../token.ipynb)\n",
    "```"
   ]
  },
  {
   "cell_type": "code",
   "execution_count": 66,
   "metadata": {},
   "outputs": [],
   "source": [
    "def get_token(username, password, apikey):\n",
    "  \"\"\"Get an Access Token to make API calls with.\"\"\"\n",
    "  body = {\n",
    "    \"username\": username,\n",
    "    \"password\": password\n",
    "  }\n",
    "  headers = {\n",
    "    \"appkey\": apikey\n",
    "  }\n",
    "  try:\n",
    "    r = requests.post(\"https://api.platts.com/auth/api\", data=body, headers=headers)\n",
    "    r.raise_for_status()\n",
    "    return r.json()[\"access_token\"]\n",
    "  except Exception as err:\n",
    "    if r.status_code >= 500:\n",
    "      print(err)\n",
    "    else:\n",
    "      print(r.status_code, r.json())"
   ]
  },
  {
   "cell_type": "code",
   "execution_count": 14,
   "metadata": {},
   "outputs": [],
   "source": [
    "def search_curves(username, password, apikey, q):\n",
    "  \"\"\"Search for curves based on `q`\"\"\"\n",
    "  token = get_token(username, password, apikey)\n",
    "  headers= {\n",
    "    \"appkey\": apikey,\n",
    "    \"Authorization\": f\"Bearer {token}\"\n",
    "  }\n",
    "\n",
    "  params = {\n",
    "    \"q\": q\n",
    "  }\n",
    "\n",
    "  r = requests.get(\"https://api.platts.com/market-data/reference-data/v3/forward-curve/search\", headers=headers, params=params)\n",
    "  return r.json()"
   ]
  },
  {
   "cell_type": "code",
   "execution_count": 1,
   "metadata": {},
   "outputs": [
    {
     "ename": "NameError",
     "evalue": "name 'search_curves' is not defined",
     "output_type": "error",
     "traceback": [
      "\u001b[0;31m---------------------------------------------------------------------------\u001b[0m",
      "\u001b[0;31mNameError\u001b[0m                                 Traceback (most recent call last)",
      "\u001b[1;32m/Users/awc/Documents/Projects/Platts/jpy-book/notebooks/marketdata/forward_curves.ipynb Cell 11'\u001b[0m in \u001b[0;36m<cell line: 1>\u001b[0;34m()\u001b[0m\n\u001b[0;32m----> <a href='vscode-notebook-cell:/Users/awc/Documents/Projects/Platts/jpy-book/notebooks/marketdata/forward_curves.ipynb#ch0000010?line=0'>1</a>\u001b[0m data \u001b[39m=\u001b[39m search_curves(username, password, apikey, \u001b[39m\"\u001b[39m\u001b[39mBrent Frontline****\u001b[39m\u001b[39m\"\u001b[39m)\n\u001b[1;32m      <a href='vscode-notebook-cell:/Users/awc/Documents/Projects/Platts/jpy-book/notebooks/marketdata/forward_curves.ipynb#ch0000010?line=1'>2</a>\u001b[0m data[\u001b[39m'\u001b[39m\u001b[39mresults\u001b[39m\u001b[39m'\u001b[39m]\n",
      "\u001b[0;31mNameError\u001b[0m: name 'search_curves' is not defined"
     ]
    }
   ],
   "source": [
    "data = search_curves(username, password, apikey, \"Brent Frontline****\")\n",
    "data['results']"
   ]
  },
  {
   "cell_type": "code",
   "execution_count": 2,
   "metadata": {},
   "outputs": [],
   "source": [
    "def get_curve_by_curvecode(username, password, apikey, curve_code):\n",
    "  \"\"\"fetch assessments for a specific curve\"\"\"\n",
    "  token = get_token(username, password, apikey)\n",
    "  headers= {\n",
    "    \"appkey\": apikey,\n",
    "    \"Authorization\": f\"Bearer {token}\"\n",
    "  }\n",
    "\n",
    "  params = {\n",
    "    \"filter\": f'curve_code: \"{curve_code}\"'\n",
    "  }\n",
    "\n",
    "  r = requests.get(\"https://api.platts.com/market-data/forward-curve/v3/curve-code\", headers=headers, params=params)\n",
    "  return r.json()"
   ]
  },
  {
   "cell_type": "code",
   "execution_count": 3,
   "metadata": {},
   "outputs": [
    {
     "ename": "NameError",
     "evalue": "name 'username' is not defined",
     "output_type": "error",
     "traceback": [
      "\u001b[0;31m---------------------------------------------------------------------------\u001b[0m",
      "\u001b[0;31mNameError\u001b[0m                                 Traceback (most recent call last)",
      "\u001b[1;32m/Users/awc/Documents/Projects/Platts/jpy-book/notebooks/marketdata/forward_curves.ipynb Cell 13'\u001b[0m in \u001b[0;36m<cell line: 1>\u001b[0;34m()\u001b[0m\n\u001b[0;32m----> <a href='vscode-notebook-cell:/Users/awc/Documents/Projects/Platts/jpy-book/notebooks/marketdata/forward_curves.ipynb#ch0000012?line=0'>1</a>\u001b[0m curve_data \u001b[39m=\u001b[39m get_curve_by_curvecode(username, password, apikey, \u001b[39m\"\u001b[39m\u001b[39mCN001\u001b[39m\u001b[39m\"\u001b[39m)\n\u001b[1;32m      <a href='vscode-notebook-cell:/Users/awc/Documents/Projects/Platts/jpy-book/notebooks/marketdata/forward_curves.ipynb#ch0000012?line=1'>2</a>\u001b[0m curve_data\n",
      "\u001b[0;31mNameError\u001b[0m: name 'username' is not defined"
     ]
    }
   ],
   "source": [
    "curve_data = get_curve_by_curvecode(username, password, apikey, \"CN001\")\n",
    "curve_data"
   ]
  },
  {
   "cell_type": "code",
   "execution_count": 4,
   "metadata": {},
   "outputs": [
    {
     "ename": "NameError",
     "evalue": "name 'pd' is not defined",
     "output_type": "error",
     "traceback": [
      "\u001b[0;31m---------------------------------------------------------------------------\u001b[0m",
      "\u001b[0;31mNameError\u001b[0m                                 Traceback (most recent call last)",
      "\u001b[1;32m/Users/awc/Documents/Projects/Platts/jpy-book/notebooks/marketdata/forward_curves.ipynb Cell 14'\u001b[0m in \u001b[0;36m<cell line: 1>\u001b[0;34m()\u001b[0m\n\u001b[0;32m----> <a href='vscode-notebook-cell:/Users/awc/Documents/Projects/Platts/jpy-book/notebooks/marketdata/forward_curves.ipynb#ch0000013?line=0'>1</a>\u001b[0m df \u001b[39m=\u001b[39m pd\u001b[39m.\u001b[39mjson_normalize(curve_data[\u001b[39m'\u001b[39m\u001b[39mresults\u001b[39m\u001b[39m'\u001b[39m], record_path\u001b[39m=\u001b[39m[\u001b[39m\"\u001b[39m\u001b[39msymbol_data\u001b[39m\u001b[39m\"\u001b[39m, \u001b[39m\"\u001b[39m\u001b[39mdata\u001b[39m\u001b[39m\"\u001b[39m], \n\u001b[1;32m      <a href='vscode-notebook-cell:/Users/awc/Documents/Projects/Platts/jpy-book/notebooks/marketdata/forward_curves.ipynb#ch0000013?line=1'>2</a>\u001b[0m   meta\u001b[39m=\u001b[39m[\u001b[39m'\u001b[39m\u001b[39mcurve_name\u001b[39m\u001b[39m'\u001b[39m, \u001b[39m'\u001b[39m\u001b[39mcurve_code\u001b[39m\u001b[39m'\u001b[39m, [\u001b[39m'\u001b[39m\u001b[39msymbol_data\u001b[39m\u001b[39m'\u001b[39m, \u001b[39m'\u001b[39m\u001b[39msymbol\u001b[39m\u001b[39m'\u001b[39m], [\u001b[39m'\u001b[39m\u001b[39msymbol_data\u001b[39m\u001b[39m'\u001b[39m, \u001b[39m'\u001b[39m\u001b[39mderivative_position\u001b[39m\u001b[39m'\u001b[39m], \n\u001b[1;32m      <a href='vscode-notebook-cell:/Users/awc/Documents/Projects/Platts/jpy-book/notebooks/marketdata/forward_curves.ipynb#ch0000013?line=2'>3</a>\u001b[0m     [\u001b[39m'\u001b[39m\u001b[39msymbol_data\u001b[39m\u001b[39m'\u001b[39m, \u001b[39m'\u001b[39m\u001b[39mcontract_label\u001b[39m\u001b[39m'\u001b[39m], [\u001b[39m'\u001b[39m\u001b[39msymbol_data\u001b[39m\u001b[39m'\u001b[39m, \u001b[39m'\u001b[39m\u001b[39mderivative_maturity_frequency\u001b[39m\u001b[39m'\u001b[39m]])\n\u001b[1;32m      <a href='vscode-notebook-cell:/Users/awc/Documents/Projects/Platts/jpy-book/notebooks/marketdata/forward_curves.ipynb#ch0000013?line=3'>4</a>\u001b[0m df\u001b[39m.\u001b[39mcolumns \u001b[39m=\u001b[39m df\u001b[39m.\u001b[39mcolumns\u001b[39m.\u001b[39mstr\u001b[39m.\u001b[39mreplace(\u001b[39m\"\u001b[39m\u001b[39msymbol_data.\u001b[39m\u001b[39m\"\u001b[39m, \u001b[39m\"\u001b[39m\u001b[39m\"\u001b[39m, regex\u001b[39m=\u001b[39m\u001b[39mTrue\u001b[39;00m)\n\u001b[1;32m      <a href='vscode-notebook-cell:/Users/awc/Documents/Projects/Platts/jpy-book/notebooks/marketdata/forward_curves.ipynb#ch0000013?line=4'>5</a>\u001b[0m df\u001b[39m.\u001b[39mhead(\u001b[39m20\u001b[39m)\n",
      "\u001b[0;31mNameError\u001b[0m: name 'pd' is not defined"
     ]
    }
   ],
   "source": [
    "df = pd.json_normalize(curve_data['results'], record_path=[\"symbol_data\", \"data\"], \n",
    "  meta=['curve_name', 'curve_code', ['symbol_data', 'symbol'], ['symbol_data', 'derivative_position'], \n",
    "    ['symbol_data', 'contract_label'], ['symbol_data', 'derivative_maturity_frequency']])\n",
    "df.columns = df.columns.str.replace(\"symbol_data.\", \"\", regex=True)\n",
    "df.head(20)"
   ]
  },
  {
   "cell_type": "code",
   "execution_count": 5,
   "metadata": {},
   "outputs": [
    {
     "ename": "NameError",
     "evalue": "name 'df' is not defined",
     "output_type": "error",
     "traceback": [
      "\u001b[0;31m---------------------------------------------------------------------------\u001b[0m",
      "\u001b[0;31mNameError\u001b[0m                                 Traceback (most recent call last)",
      "\u001b[1;32m/Users/awc/Documents/Projects/Platts/jpy-book/notebooks/marketdata/forward_curves.ipynb Cell 15'\u001b[0m in \u001b[0;36m<cell line: 1>\u001b[0;34m()\u001b[0m\n\u001b[0;32m----> <a href='vscode-notebook-cell:/Users/awc/Documents/Projects/Platts/jpy-book/notebooks/marketdata/forward_curves.ipynb#ch0000014?line=0'>1</a>\u001b[0m filt \u001b[39m=\u001b[39m df[\u001b[39m'\u001b[39m\u001b[39mderivative_maturity_frequency\u001b[39m\u001b[39m'\u001b[39m] \u001b[39m==\u001b[39m \u001b[39m\"\u001b[39m\u001b[39mMonth\u001b[39m\u001b[39m\"\u001b[39m\n\u001b[1;32m      <a href='vscode-notebook-cell:/Users/awc/Documents/Projects/Platts/jpy-book/notebooks/marketdata/forward_curves.ipynb#ch0000014?line=1'>2</a>\u001b[0m filt2 \u001b[39m=\u001b[39m df[\u001b[39m'\u001b[39m\u001b[39mbate\u001b[39m\u001b[39m'\u001b[39m] \u001b[39m==\u001b[39m \u001b[39m\"\u001b[39m\u001b[39mc\u001b[39m\u001b[39m\"\u001b[39m\n\u001b[1;32m      <a href='vscode-notebook-cell:/Users/awc/Documents/Projects/Platts/jpy-book/notebooks/marketdata/forward_curves.ipynb#ch0000014?line=2'>3</a>\u001b[0m chart_df \u001b[39m=\u001b[39m df[filt \u001b[39m&\u001b[39m filt2]\n",
      "\u001b[0;31mNameError\u001b[0m: name 'df' is not defined"
     ]
    }
   ],
   "source": [
    "filt = df['derivative_maturity_frequency'] == \"Month\"\n",
    "filt2 = df['bate'] == \"c\"\n",
    "chart_df = df[filt & filt2]\n",
    "chart_df = chart_df.set_index(pd.PeriodIndex(chart_df['contract_label'], freq=\"M\"))"
   ]
  },
  {
   "cell_type": "code",
   "execution_count": 6,
   "metadata": {},
   "outputs": [
    {
     "ename": "NameError",
     "evalue": "name 'chart_df' is not defined",
     "output_type": "error",
     "traceback": [
      "\u001b[0;31m---------------------------------------------------------------------------\u001b[0m",
      "\u001b[0;31mNameError\u001b[0m                                 Traceback (most recent call last)",
      "\u001b[1;32m/Users/awc/Documents/Projects/Platts/jpy-book/notebooks/marketdata/forward_curves.ipynb Cell 16'\u001b[0m in \u001b[0;36m<cell line: 1>\u001b[0;34m()\u001b[0m\n\u001b[0;32m----> <a href='vscode-notebook-cell:/Users/awc/Documents/Projects/Platts/jpy-book/notebooks/marketdata/forward_curves.ipynb#ch0000015?line=0'>1</a>\u001b[0m chart_df \u001b[39m=\u001b[39m chart_df\u001b[39m.\u001b[39msort_values(by\u001b[39m=\u001b[39m\u001b[39m\"\u001b[39m\u001b[39mvalue\u001b[39m\u001b[39m\"\u001b[39m)\n\u001b[1;32m      <a href='vscode-notebook-cell:/Users/awc/Documents/Projects/Platts/jpy-book/notebooks/marketdata/forward_curves.ipynb#ch0000015?line=1'>2</a>\u001b[0m chart_df\n",
      "\u001b[0;31mNameError\u001b[0m: name 'chart_df' is not defined"
     ]
    }
   ],
   "source": [
    "chart_df = chart_df.sort_values(by=\"value\")\n",
    "chart_df"
   ]
  },
  {
   "cell_type": "code",
   "execution_count": 7,
   "metadata": {},
   "outputs": [
    {
     "ename": "NameError",
     "evalue": "name 'plt' is not defined",
     "output_type": "error",
     "traceback": [
      "\u001b[0;31m---------------------------------------------------------------------------\u001b[0m",
      "\u001b[0;31mNameError\u001b[0m                                 Traceback (most recent call last)",
      "\u001b[1;32m/Users/awc/Documents/Projects/Platts/jpy-book/notebooks/marketdata/forward_curves.ipynb Cell 17'\u001b[0m in \u001b[0;36m<cell line: 1>\u001b[0;34m()\u001b[0m\n\u001b[0;32m----> <a href='vscode-notebook-cell:/Users/awc/Documents/Projects/Platts/jpy-book/notebooks/marketdata/forward_curves.ipynb#ch0000016?line=0'>1</a>\u001b[0m fig, ax \u001b[39m=\u001b[39m plt\u001b[39m.\u001b[39msubplots()\n\u001b[1;32m      <a href='vscode-notebook-cell:/Users/awc/Documents/Projects/Platts/jpy-book/notebooks/marketdata/forward_curves.ipynb#ch0000016?line=1'>2</a>\u001b[0m chart_df[\u001b[39m'\u001b[39m\u001b[39mvalue\u001b[39m\u001b[39m'\u001b[39m]\u001b[39m.\u001b[39mplot(ax\u001b[39m=\u001b[39max, figsize\u001b[39m=\u001b[39m(\u001b[39m12\u001b[39m,\u001b[39m6\u001b[39m), x_compat\u001b[39m=\u001b[39m\u001b[39mTrue\u001b[39;00m, label\u001b[39m=\u001b[39mchart_df[\u001b[39m'\u001b[39m\u001b[39mcurve_name\u001b[39m\u001b[39m'\u001b[39m][\u001b[39m0\u001b[39m])\n\u001b[1;32m      <a href='vscode-notebook-cell:/Users/awc/Documents/Projects/Platts/jpy-book/notebooks/marketdata/forward_curves.ipynb#ch0000016?line=2'>3</a>\u001b[0m ax\u001b[39m.\u001b[39mset_xlabel(\u001b[39m\"\u001b[39m\u001b[39mContract Label\u001b[39m\u001b[39m\"\u001b[39m)\n",
      "\u001b[0;31mNameError\u001b[0m: name 'plt' is not defined"
     ]
    }
   ],
   "source": [
    "fig, ax = plt.subplots()\n",
    "chart_df['value'].plot(ax=ax, figsize=(12,6), x_compat=True, label=chart_df['curve_name'][0])\n",
    "ax.set_xlabel(\"Contract Label\")\n",
    "ax.legend()\n",
    "ax.xaxis.set_major_locator(mdates.YearLocator())\n",
    "ax.xaxis.set_major_formatter(mdates.DateFormatter(\"%Y\"))"
   ]
  },
  {
   "cell_type": "code",
   "execution_count": null,
   "metadata": {},
   "outputs": [],
   "source": []
  },
  {
   "cell_type": "code",
   "execution_count": null,
   "metadata": {},
   "outputs": [],
   "source": []
  },
  {
   "cell_type": "code",
   "execution_count": null,
   "metadata": {},
   "outputs": [],
   "source": []
  }
 ],
 "metadata": {
  "interpreter": {
   "hash": "b0fa6594d8f4cbf19f97940f81e996739fb7646882a419484c72d19e05852a7e"
  },
  "kernelspec": {
   "display_name": "Python 3.9.13 64-bit",
   "language": "python",
   "name": "python3"
  },
  "language_info": {
   "codemirror_mode": {
    "name": "ipython",
    "version": 3
   },
   "file_extension": ".py",
   "mimetype": "text/x-python",
   "name": "python",
   "nbconvert_exporter": "python",
   "pygments_lexer": "ipython3",
   "version": "3.9.13"
  },
  "orig_nbformat": 4
 },
 "nbformat": 4,
 "nbformat_minor": 2
}
