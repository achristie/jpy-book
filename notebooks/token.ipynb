{
  "cells": [
    {
      "cell_type": "markdown",
      "metadata": {},
      "source": [
        "# Generating a Token\n",
        "\n",
        "All Platts APIs require an Access Token and API Key.\n",
        "\n",
        "The API Key is passed in the `appkey` header<br>\n",
        "The Access Token is passed in the `Authorization` header prefixed with Bearer, `Bearer {access_token}`\n",
        "\n",
        "\n"
      ]
    },
    {
      "cell_type": "markdown",
      "metadata": {},
      "source": [
        "## Getting your API Key\n",
        "\n",
        "1. Sign in on the [Platts Developer Portal]( https://developer.platts.com )\n",
        "2. Go to the [My Account Page](https://developer.platts.com/my-account)\n",
        "  ![MYACCOUNT](./static/apikey.png)\n",
        "3. Copy API Key\n"
      ]
    },
    {
      "cell_type": "markdown",
      "metadata": {},
      "source": [
        "## Programatically Generating a Token"
      ]
    },
    {
      "cell_type": "markdown",
      "metadata": {},
      "source": [
        "### Install Dependencies\n",
        "\n",
        "`pip install requests` <br>\n",
        "\n",
        "import the requests package in order to call HTTP endpoints"
      ]
    },
    {
      "cell_type": "code",
      "execution_count": 2,
      "metadata": {},
      "outputs": [],
      "source": [
        "import requests"
      ]
    },
    {
      "cell_type": "markdown",
      "metadata": {},
      "source": [
        "### Creating get_token Function\n",
        "\n",
        "`get_token` requires a `username`, `password`, and `apikey` and returns an `access_token` <br>\n",
        "\n",
        "The `requests` library is used to make the HTTP call to the Platts Token Generation endpoint as shown in the example below"
      ]
    },
    {
      "cell_type": "code",
      "execution_count": 15,
      "metadata": {},
      "outputs": [],
      "source": [
        "def get_token(username, password, apikey):\n",
        "  body = {\n",
        "    \"username\": username,\n",
        "    \"password\": password\n",
        "  }\n",
        "  headers = {\n",
        "    \"appkey\": apikey\n",
        "  }\n",
        "  try:\n",
        "    r = requests.post(\"https://api.platts.com/auth/api\", data=body, headers=headers)\n",
        "    r.raise_for_status()\n",
        "    return r.json()[\"access_token\"]\n",
        "  except Exception as err:\n",
        "    print(r.status_code, r.json())"
      ]
    },
    {
      "cell_type": "markdown",
      "metadata": {},
      "source": [
        "### Invoking get_token Function\n",
        "\n",
        "The below output is in a format called `JWT` and is the expected result"
      ]
    },
    {
      "cell_type": "code",
      "execution_count": 30,
      "metadata": {},
      "outputs": [
        {
          "data": {
            "text/plain": [
              "'eyJraWQiOiJTUEdMQkRvbWFpbiIsIng1dCI6InkxX0ZTTjl6UXJOSG1kRDh3Z0pOVzFmVDI0OCIsImFsZyI6IlJTMjU2In0.eyJpc3MiOiJodHRwczovL2xvZ2luLnNwZ2xvYmFsLmNvbTo0NDMvb2F1dGgyIiwiYXVkIjoiUGxhdHRzQVBJUGxhdGZvcm0iLCJleHAiOjE2NTQ4MjUzMTAsImp0aSI6IkhzRmlNX1ZhLTJBNXMwRGhaYlFDOHciLCJpYXQiOjE2NTQ4MjE3MTAsInN1YiI6IkFORFJFVy5DSFJJU1RJRUBTUEdMT0JBTC5DT00iLCJ1aWQiOiJBTkRSRVcuQ0hSSVNUSUVAU1BHTE9CQUwuQ09NIiwiZGlzdHJpYnV0b3JQbGF0Zm9ybSI6IkFQSSIsImNvdW50cnkiOiJOVUxMIiwicmVzU3J2QXR0ci1TdGF0aWMiOiJSRVNPVVJDRUNPTlNUIiwiRW1haWwiOiJhbmRyZXcuY2hyaXN0aWVAc3BnbG9iYWwuY29tIiwiRmlyc3ROYW1lIjoiQW5kcmV3IiwiR3JvdXBzIjoiUExNRFZfUk9MRV9FVVJPUEU6Q0ZMT1dfWlpaSU5UX1dFQl9DRkxPOlBMTURWX1JPTEVfUE9XRVI6U0NfWFBSRVNTRkVFRDpTQ19YUFJFU1NGRUVEIERBVEEgR1VJREU6U0NfR0RTLUFQSTpQTE1EVl9BTEw6UExNRFZfUk9MRV9OQVRHQVM6UExNRFZfUk9MRV9OR0w6U0NfQUxMOlJPTEVfQUxMOlBMTURWX1JPTEU6R0RTLUFQSV9BTEwiLCJzZXNzaW9uSWQiOiIyMWFmZmNjOTY2ZTkzYjllNjg1MGI2MzM4OGIzY2U4Y2M0MzNjMzdhY2M5NDg1YjViMDUyYjZkMzdmMDNmNTEwIiwiTGFzdE5hbWUiOiJDaHJpc3RpZSIsIlNQX1NTT19HUk9VUFMiOiJQTE1EVl9ST0xFX0VVUk9QRTpDRkxPV19aWlpJTlRfV0VCX0NGTE86UExNRFZfUk9MRV9QT1dFUjpTQ19YUFJFU1NGRUVEOlNDX1hQUkVTU0ZFRUQgREFUQSBHVUlERTpTQ19HRFMtQVBJOlBMTURWX0FMTDpQTE1EVl9ST0xFX05BVEdBUzpQTE1EVl9ST0xFX05HTDpTQ19BTEw6Uk9MRV9BTEw6UExNRFZfUk9MRTpHRFMtQVBJX0FMTCIsImNsaWVudCI6IlBMX0FQSV9QbGF0Zm9ybSIsInNjb3BlIjpbIlBsYXR0c0FQSVBsYXRmb3JtLmFwaSJdLCJkb21haW4iOiJTUEdMQkRvbWFpbiJ9.NQUeRMggyqvUQhZU-zuDt0_4M5hVViWUsCWIE7ZgHTsJKEKyGKN3MNEQc2gcx7uYNoDyQCDva1wXUD5XganaYffdoMBJxx-gIefwScsZ7aJ5DQNjMtEmt3N4V9bCCNVRFazrGmNYbyrGYcCjwf-71DLYC6yut-JKVOGkbb9TWF4o01CmJSt6LiR4bcCC2mXlH7loNu2RzEW7YwCO2oj-1lepxCAWnJ4oC_b_P0BE4iofLYV9RIC0rx82FoXPt_mmkusKxkplTrsbruz1C4A3CfDodNKimf3w6jM19uWSj27ppX642izO-vl2jg4-r_D7ko5sKrtjYyRPjRgjXeOFbw'"
            ]
          },
          "execution_count": 30,
          "metadata": {},
          "output_type": "execute_result"
        }
      ],
      "source": [
        "get_token(\"USERNAME\", \"PASSWORD\", \"APIKey\")"
      ]
    },
    {
      "cell_type": "markdown",
      "metadata": {},
      "source": [
        "### Common Errors"
      ]
    },
    {
      "cell_type": "markdown",
      "metadata": {},
      "source": [
        "##### Wrong Password"
      ]
    },
    {
      "cell_type": "code",
      "execution_count": 31,
      "metadata": {},
      "outputs": [
        {
          "name": "stdout",
          "output_type": "stream",
          "text": [
            "400 {'error': 'invalid_grant', 'error_description': 'Invalid Resource Owner Credentials'}\n"
          ]
        }
      ],
      "source": [
        "get_token(\"random_user@spglobal.com\", \"Wrong Password\", \"TEST\")"
      ]
    },
    {
      "cell_type": "markdown",
      "metadata": {},
      "source": [
        "##### Wrong API Key\n"
      ]
    },
    {
      "cell_type": "code",
      "execution_count": 23,
      "metadata": {},
      "outputs": [
        {
          "name": "stdout",
          "output_type": "stream",
          "text": [
            "401 {'message': 'Invalid authentication credentials'}\n"
          ]
        }
      ],
      "source": [
        "get_token(\"random_user@spglobal.com\", \"Test\", \"Wrong API Key\" )"
      ]
    }
  ],
  "metadata": {
    "kernelspec": {
      "display_name": "Python 3",
      "language": "python",
      "name": "python3"
    },
    "language_info": {
      "codemirror_mode": {
        "name": "ipython",
        "version": 3
      },
      "file_extension": ".py",
      "mimetype": "text/x-python",
      "name": "python",
      "nbconvert_exporter": "python",
      "pygments_lexer": "ipython3",
      "version": "3.9.13"
    },
    "widgets": {
      "application/vnd.jupyter.widget-state+json": {
        "state": {},
        "version_major": 2,
        "version_minor": 0
      }
    }
  },
  "nbformat": 4,
  "nbformat_minor": 4
}
